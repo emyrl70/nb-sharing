{
 "cells": [
  {
   "cell_type": "code",
   "execution_count": 1,
   "metadata": {
    "colab": {
     "base_uri": "https://localhost:8080/",
     "height": 1000
    },
    "colab_type": "code",
    "id": "tWsOPkj9q0EC",
    "outputId": "32567bbc-b74d-47a8-c9a9-c3cdf14ae8a4"
   },
   "outputs": [],
   "source": [
    "! tar -xf DEMO1_Resume_Images.zip"
   ]
  },
  {
   "cell_type": "code",
   "execution_count": 2,
   "metadata": {
    "ExecuteTime": {
     "end_time": "2019-08-13T02:57:35.244687Z",
     "start_time": "2019-08-13T02:57:33.840156Z"
    },
    "colab": {},
    "colab_type": "code",
    "id": "m2drI_-x8WO6"
   },
   "outputs": [],
   "source": [
    "import torch\n",
    "import torch.nn as nn\n",
    "from torch.optim import ASGD, SGD\n",
    "from torch.optim.lr_scheduler import CyclicLR, MultiStepLR, StepLR\n",
    "from torch.utils.data import DataLoader\n",
    "\n",
    "import torchvision.models as vision_models\n",
    "\n",
    "from torchvision import datasets, transforms\n",
    "\n",
    "\n",
    "# to convert image to PIL format\n",
    "import cv2\n",
    "import PIL.Image as Image\n",
    "\n",
    "import time\n",
    "import copy\n",
    "import pandas as pd\n",
    "import numpy as np\n",
    "import os\n",
    "\n",
    "\n",
    "\n",
    "# from pyspark import SparkContext, SQLContext\n",
    "# from pyspark.sql.functions import UserDefinedFunction, lit, col,\\\n",
    "# monotonically_increasing_id,size, split, udf, when,  lower\n",
    "# from pyspark.sql.types import StringType, LongType\n",
    "\n",
    "\n",
    "from sklearn.preprocessing import MultiLabelBinarizer\n",
    "from sklearn.model_selection import train_test_split"
   ]
  },
  {
   "cell_type": "code",
   "execution_count": 3,
   "metadata": {
    "ExecuteTime": {
     "end_time": "2019-08-13T02:57:38.882540Z",
     "start_time": "2019-08-13T02:57:35.248018Z"
    },
    "colab": {},
    "colab_type": "code",
    "id": "M1MIyxEt8WO_"
   },
   "outputs": [],
   "source": [
    "device = torch.device(\"cuda:0\" if torch.cuda.is_available() else \"cpu\")"
   ]
  },
  {
   "cell_type": "code",
   "execution_count": 4,
   "metadata": {
    "ExecuteTime": {
     "end_time": "2019-08-13T02:57:43.932978Z",
     "start_time": "2019-08-13T02:57:38.891325Z"
    },
    "colab": {},
    "colab_type": "code",
    "id": "qFpFkMBu8WPI"
   },
   "outputs": [],
   "source": [
    "df = pd.read_csv(\"Resume_Image_Classifier_Data - Sheet3.csv\")"
   ]
  },
  {
   "cell_type": "code",
   "execution_count": 5,
   "metadata": {
    "ExecuteTime": {
     "end_time": "2019-08-13T02:57:44.216984Z",
     "start_time": "2019-08-13T02:57:43.935635Z"
    },
    "colab": {
     "base_uri": "https://localhost:8080/",
     "height": 202
    },
    "colab_type": "code",
    "id": "42taq-Yx8WPM",
    "outputId": "927de1b3-a355-48b7-c058-635f82c2d47e",
    "scrolled": false
   },
   "outputs": [
    {
     "data": {
      "text/html": [
       "<div>\n",
       "<style scoped>\n",
       "    .dataframe tbody tr th:only-of-type {\n",
       "        vertical-align: middle;\n",
       "    }\n",
       "\n",
       "    .dataframe tbody tr th {\n",
       "        vertical-align: top;\n",
       "    }\n",
       "\n",
       "    .dataframe thead th {\n",
       "        text-align: right;\n",
       "    }\n",
       "</style>\n",
       "<table border=\"1\" class=\"dataframe\">\n",
       "  <thead>\n",
       "    <tr style=\"text-align: right;\">\n",
       "      <th></th>\n",
       "      <th>ID</th>\n",
       "      <th>file_name</th>\n",
       "      <th>Format</th>\n",
       "      <th>Content</th>\n",
       "    </tr>\n",
       "  </thead>\n",
       "  <tbody>\n",
       "    <tr>\n",
       "      <th>0</th>\n",
       "      <td>0</td>\n",
       "      <td>0-Cardiovascular_Nurse-Adult_Nurse_Practitione...</td>\n",
       "      <td>fancy</td>\n",
       "      <td>resume</td>\n",
       "    </tr>\n",
       "    <tr>\n",
       "      <th>1</th>\n",
       "      <td>1</td>\n",
       "      <td>0-Cardiovascular_Nurse-Adult_Nurse_Practitione...</td>\n",
       "      <td>fancy</td>\n",
       "      <td>resume</td>\n",
       "    </tr>\n",
       "    <tr>\n",
       "      <th>2</th>\n",
       "      <td>2</td>\n",
       "      <td>0-Cardiovascular_Nurse-Adult_Nurse_Practitione...</td>\n",
       "      <td>non_fancy</td>\n",
       "      <td>not_resume</td>\n",
       "    </tr>\n",
       "    <tr>\n",
       "      <th>3</th>\n",
       "      <td>3</td>\n",
       "      <td>1-Cardiovascular_Nurse-Advanced_Registered_Nur...</td>\n",
       "      <td>fancy</td>\n",
       "      <td>resume</td>\n",
       "    </tr>\n",
       "    <tr>\n",
       "      <th>4</th>\n",
       "      <td>4</td>\n",
       "      <td>1-Cardiovascular_Nurse-Advanced_Registered_Nur...</td>\n",
       "      <td>non_fancy</td>\n",
       "      <td>not_resume</td>\n",
       "    </tr>\n",
       "  </tbody>\n",
       "</table>\n",
       "</div>"
      ],
      "text/plain": [
       "   ID                                          file_name     Format  \\\n",
       "0   0  0-Cardiovascular_Nurse-Adult_Nurse_Practitione...      fancy   \n",
       "1   1  0-Cardiovascular_Nurse-Adult_Nurse_Practitione...      fancy   \n",
       "2   2  0-Cardiovascular_Nurse-Adult_Nurse_Practitione...  non_fancy   \n",
       "3   3  1-Cardiovascular_Nurse-Advanced_Registered_Nur...      fancy   \n",
       "4   4  1-Cardiovascular_Nurse-Advanced_Registered_Nur...  non_fancy   \n",
       "\n",
       "      Content  \n",
       "0      resume  \n",
       "1      resume  \n",
       "2  not_resume  \n",
       "3      resume  \n",
       "4  not_resume  "
      ]
     },
     "execution_count": 5,
     "metadata": {},
     "output_type": "execute_result"
    }
   ],
   "source": [
    "df.head(5)"
   ]
  },
  {
   "cell_type": "code",
   "execution_count": 6,
   "metadata": {
    "colab": {},
    "colab_type": "code",
    "id": "dssGcnAhCODC"
   },
   "outputs": [],
   "source": [
    "train_df, test_df = train_test_split(df, test_size = 0.2, random_state = 1234)"
   ]
  },
  {
   "cell_type": "code",
   "execution_count": 7,
   "metadata": {
    "ExecuteTime": {
     "end_time": "2019-08-13T02:57:45.700823Z",
     "start_time": "2019-08-13T02:57:44.263294Z"
    },
    "code_folding": [],
    "colab": {},
    "colab_type": "code",
    "id": "5jON-niw8WPV"
   },
   "outputs": [],
   "source": [
    "# train_df.loc[:, 'file_name'] = train_df['file_name'].apply(lambda x: x.lower() )\n",
    "# test_df.loc[:, 'file_name'] = test_df['file_name'].apply(lambda x: x.lower() )\n",
    "\n",
    "Cardiovascular_nurses_train_filter = train_df[train_df['file_name'].apply(lambda x: x.lower() ).str.contains('cardiovascular_nurse')]\n",
    "Cardiovascular_nurses_train = Cardiovascular_nurses_train_filter.to_dict('records')\n",
    "\n",
    "Certified_nurses_train_filter = train_df[train_df['file_name'].apply(lambda x: x.lower() ).str.contains('certified_registered_nurse')]\n",
    "Certified_nurses_train = Certified_nurses_train_filter.to_dict('records')\n",
    "\n",
    "Clinical_nurses_train_filter = train_df[train_df['file_name'].apply(lambda x: x.lower() ).str.contains('clinical_nurse_specialist')]\n",
    "Clinical_nurses_train = Clinical_nurses_train_filter.to_dict('records')\n",
    "\n",
    "\n",
    "Cardiovascular_nurses_test_filter = test_df[test_df['file_name'].apply(lambda x: x.lower() ).str.contains('cardiovascular_nurse')]\n",
    "Cardiovascular_nurses_test = Cardiovascular_nurses_test_filter.to_dict('records')\n",
    "\n",
    "Certified_nurses_test_filter = test_df[test_df['file_name'].apply(lambda x: x.lower() ).str.contains('certified_registered_nurse')]\n",
    "Certified_nurses_test = Certified_nurses_test_filter.to_dict('records')\n",
    "\n",
    "Clinical_nurses_test_filter = test_df[test_df['file_name'].apply(lambda x: x.lower() ).str.contains('clinical_nurse_specialist')]\n",
    "Clinical_nurses_test = Clinical_nurses_test_filter.to_dict('records')"
   ]
  },
  {
   "cell_type": "code",
   "execution_count": 8,
   "metadata": {},
   "outputs": [
    {
     "data": {
      "text/html": [
       "<div>\n",
       "<style scoped>\n",
       "    .dataframe tbody tr th:only-of-type {\n",
       "        vertical-align: middle;\n",
       "    }\n",
       "\n",
       "    .dataframe tbody tr th {\n",
       "        vertical-align: top;\n",
       "    }\n",
       "\n",
       "    .dataframe thead th {\n",
       "        text-align: right;\n",
       "    }\n",
       "</style>\n",
       "<table border=\"1\" class=\"dataframe\">\n",
       "  <thead>\n",
       "    <tr style=\"text-align: right;\">\n",
       "      <th></th>\n",
       "      <th>ID</th>\n",
       "      <th>file_name</th>\n",
       "      <th>Format</th>\n",
       "      <th>Content</th>\n",
       "    </tr>\n",
       "  </thead>\n",
       "  <tbody>\n",
       "    <tr>\n",
       "      <th>281</th>\n",
       "      <td>281</td>\n",
       "      <td>216-Clinical_Nurse_specialist-Clinical_Instruc...</td>\n",
       "      <td>non_fancy</td>\n",
       "      <td>resume</td>\n",
       "    </tr>\n",
       "    <tr>\n",
       "      <th>73</th>\n",
       "      <td>73</td>\n",
       "      <td>127-Certified_Registered_Nurse_Anesthetist-Cer...</td>\n",
       "      <td>non_fancy</td>\n",
       "      <td>resume</td>\n",
       "    </tr>\n",
       "    <tr>\n",
       "      <th>547</th>\n",
       "      <td>547</td>\n",
       "      <td>48-Cardiovascular_Nurse-Nurse_Practitioner(2)_...</td>\n",
       "      <td>non_fancy</td>\n",
       "      <td>resume</td>\n",
       "    </tr>\n",
       "    <tr>\n",
       "      <th>62</th>\n",
       "      <td>62</td>\n",
       "      <td>122-Certified_Registered_Nurse_Anesthetist-Cer...</td>\n",
       "      <td>non_fancy</td>\n",
       "      <td>not_resume</td>\n",
       "    </tr>\n",
       "    <tr>\n",
       "      <th>414</th>\n",
       "      <td>414</td>\n",
       "      <td>262-Clinical_Nurse_specialist-Medical_Manageme...</td>\n",
       "      <td>fancy</td>\n",
       "      <td>resume</td>\n",
       "    </tr>\n",
       "  </tbody>\n",
       "</table>\n",
       "</div>"
      ],
      "text/plain": [
       "      ID                                          file_name     Format  \\\n",
       "281  281  216-Clinical_Nurse_specialist-Clinical_Instruc...  non_fancy   \n",
       "73    73  127-Certified_Registered_Nurse_Anesthetist-Cer...  non_fancy   \n",
       "547  547  48-Cardiovascular_Nurse-Nurse_Practitioner(2)_...  non_fancy   \n",
       "62    62  122-Certified_Registered_Nurse_Anesthetist-Cer...  non_fancy   \n",
       "414  414  262-Clinical_Nurse_specialist-Medical_Manageme...      fancy   \n",
       "\n",
       "        Content  \n",
       "281      resume  \n",
       "73       resume  \n",
       "547      resume  \n",
       "62   not_resume  \n",
       "414      resume  "
      ]
     },
     "execution_count": 8,
     "metadata": {},
     "output_type": "execute_result"
    }
   ],
   "source": [
    "train_df.head()"
   ]
  },
  {
   "cell_type": "code",
   "execution_count": 9,
   "metadata": {
    "ExecuteTime": {
     "end_time": "2019-08-13T02:57:45.757928Z",
     "start_time": "2019-08-13T02:57:45.734093Z"
    },
    "code_folding": [
     23
    ],
    "colab": {
     "base_uri": "https://localhost:8080/",
     "height": 34
    },
    "colab_type": "code",
    "id": "IdsBkcUZ8WPe",
    "outputId": "82ef287a-62e5-4a45-a186-1c09b2e9b35d"
   },
   "outputs": [
    {
     "data": {
      "text/plain": [
       "MultiLabelBinarizer(classes=None, sparse_output=False)"
      ]
     },
     "execution_count": 9,
     "metadata": {},
     "output_type": "execute_result"
    }
   ],
   "source": [
    "cardiovascular_img_path = 'DEMO1_Resume_Images/Cardiovascular_Nurse/'\n",
    "\n",
    "certified_img_path = 'DEMO1_Resume_Images/Certified_Registered_Nurse_Anesthetist/'\n",
    "\n",
    "clinical_img_path = 'DEMO1_Resume_Images/Clinical_Nurse_specialist/'\n",
    "\n",
    "\n",
    "\n",
    "train_data_structure = [(cardiovascular_img_path, Cardiovascular_nurses_train),\n",
    "                 (certified_img_path, Certified_nurses_train),\n",
    "                 (clinical_img_path, Clinical_nurses_train)]\n",
    "\n",
    "\n",
    "\n",
    "test_data_structure = [(cardiovascular_img_path, Cardiovascular_nurses_test),\n",
    "                 (certified_img_path, Certified_nurses_test),\n",
    "                 (clinical_img_path, Clinical_nurses_test)]\n",
    "\n",
    "\n",
    "\n",
    "\n",
    "\n",
    "\n",
    "data_transforms = {\n",
    "    \n",
    "    'train': transforms.Compose([\n",
    "        transforms.Resize((512,256)),\n",
    "        \n",
    "        transforms.ToTensor()       \n",
    "        ,\n",
    "        transforms.Normalize([0.4122], [0.3845], [0.3541])\n",
    "        ,\n",
    "        \n",
    "    ]),\n",
    "    'val': transforms.Compose([\n",
    "\n",
    "        transforms.Resize((512,256)),\n",
    "        transforms.ToTensor()\n",
    "        ,\n",
    "        transforms.Normalize([0.2254], [0.1984], [0.1752])\n",
    "        \n",
    "    ]),\n",
    "}\n",
    "\n",
    "actual_labels = [(\"fancy\",\"resume\"),\n",
    "                (\"fancy\", \"not_resume\"),\n",
    "                (\"non_fancy\", \"resume\"),\n",
    "                (\"non_fancy\", \"not_resume\")]\n",
    "\n",
    "\n",
    "mlb = MultiLabelBinarizer()\n",
    "\n",
    "mlb.fit(actual_labels)"
   ]
  },
  {
   "cell_type": "code",
   "execution_count": 10,
   "metadata": {
    "ExecuteTime": {
     "end_time": "2019-08-13T02:57:45.770357Z",
     "start_time": "2019-08-13T02:57:45.762018Z"
    },
    "colab": {
     "base_uri": "https://localhost:8080/",
     "height": 34
    },
    "colab_type": "code",
    "id": "TkFTuL0q8WPi",
    "outputId": "b8f5f92f-3236-4953-d901-a716d016e200"
   },
   "outputs": [
    {
     "data": {
      "text/plain": [
       "array(['fancy', 'non_fancy', 'not_resume', 'resume'], dtype=object)"
      ]
     },
     "execution_count": 10,
     "metadata": {},
     "output_type": "execute_result"
    }
   ],
   "source": [
    "mlb.classes_"
   ]
  },
  {
   "cell_type": "code",
   "execution_count": 11,
   "metadata": {
    "ExecuteTime": {
     "end_time": "2019-08-13T02:58:48.427462Z",
     "start_time": "2019-08-13T02:58:48.413911Z"
    },
    "code_folding": [
     2
    ],
    "colab": {},
    "colab_type": "code",
    "id": "BSATPmtT8WPm"
   },
   "outputs": [],
   "source": [
    "\n",
    "\n",
    "def get_array_rep(data_structure, mode = 'train'):\n",
    "    \n",
    "    if mode is 'train':\n",
    "      \n",
    "      nrows = len(train_df)\n",
    "      \n",
    "      features = torch.empty(*(nrows, 3, 512, 256), dtype = torch.float)\n",
    "\n",
    "      labels = torch.empty(*(nrows,4), dtype = torch.float)\n",
    "      \n",
    "      \n",
    "    elif mode is 'val':\n",
    "        \n",
    "        nrows = len(test_df)\n",
    "        \n",
    "        features = torch.empty(*(nrows, 3, 512, 256), dtype = torch.float)\n",
    "        \n",
    "        labels = torch.empty(*(nrows, 4), dtype = torch.float)\n",
    "        \n",
    "\n",
    "    ind = 0\n",
    "    \n",
    "    for (file_path, records) in data_structure:\n",
    "      \n",
    "      \n",
    "        for rec in records:\n",
    "            \n",
    "            if os.path.exists(rec['file_name']):\n",
    "            \n",
    "                img = Image.open(file_path  + rec['file_name'] ).convert('RGB')\n",
    "\n",
    "                img = data_transforms[mode](img)\n",
    "\n",
    "                classes = ( rec['Format'], rec['Content'] )\n",
    "\n",
    "                features[ind] = img\n",
    "\n",
    "                labels[ind] = torch.from_numpy( mlb.transform([classes])  )\n",
    "\n",
    "                ind +=1\n",
    "            \n",
    "            \n",
    "    \n",
    "    \n",
    "    return (features,labels  )"
   ]
  },
  {
   "cell_type": "code",
   "execution_count": 12,
   "metadata": {
    "ExecuteTime": {
     "end_time": "2019-08-13T03:01:21.422420Z",
     "start_time": "2019-08-13T02:58:49.120967Z"
    },
    "colab": {},
    "colab_type": "code",
    "id": "v7KysKIs8WPq"
   },
   "outputs": [],
   "source": [
    "train_features, train_targets = get_array_rep(train_data_structure)"
   ]
  },
  {
   "cell_type": "code",
   "execution_count": 13,
   "metadata": {},
   "outputs": [
    {
     "data": {
      "text/plain": [
       "(533, torch.Tensor)"
      ]
     },
     "execution_count": 13,
     "metadata": {},
     "output_type": "execute_result"
    }
   ],
   "source": [
    "len(train_features), type(train_features)"
   ]
  },
  {
   "cell_type": "code",
   "execution_count": 14,
   "metadata": {
    "colab": {},
    "colab_type": "code",
    "id": "92etCsO8-D06"
   },
   "outputs": [],
   "source": [
    "test_features, test_targets  = get_array_rep(test_data_structure, mode  = 'val')"
   ]
  },
  {
   "cell_type": "code",
   "execution_count": 15,
   "metadata": {},
   "outputs": [
    {
     "data": {
      "text/plain": [
       "ID           533\n",
       "file_name    533\n",
       "Format       533\n",
       "Content      533\n",
       "dtype: int64"
      ]
     },
     "execution_count": 15,
     "metadata": {},
     "output_type": "execute_result"
    }
   ],
   "source": [
    "train_df.count()"
   ]
  },
  {
   "cell_type": "code",
   "execution_count": 16,
   "metadata": {
    "ExecuteTime": {
     "end_time": "2019-08-13T03:01:35.301535Z",
     "start_time": "2019-08-13T03:01:34.594740Z"
    },
    "colab": {},
    "colab_type": "code",
    "id": "biApnSHU8WPu"
   },
   "outputs": [],
   "source": [
    "train_data = [( train_features[ind], train_targets[ind] ) for ind in range(len(train_df) )]\n",
    "\n",
    "test_data = [( test_features[ind], test_targets[ind]   ) for ind in range(len(test_df) )]"
   ]
  },
  {
   "cell_type": "code",
   "execution_count": 17,
   "metadata": {
    "ExecuteTime": {
     "end_time": "2019-08-13T03:01:44.365949Z",
     "start_time": "2019-08-13T03:01:44.349322Z"
    },
    "colab": {},
    "colab_type": "code",
    "id": "69XWPyJu8WP2"
   },
   "outputs": [],
   "source": [
    "train_loader = DataLoader(train_data, batch_size = 24, shuffle  = True)\n",
    "\n",
    "\n",
    "test_loader = DataLoader(test_data, batch_size = 5, shuffle = True)\n",
    "\n",
    "dataloaders= {'train': train_loader, 'val': test_loader }"
   ]
  },
  {
   "cell_type": "markdown",
   "metadata": {
    "colab_type": "text",
    "id": "eDLR2VSWDWtu"
   },
   "source": []
  },
  {
   "cell_type": "code",
   "execution_count": 18,
   "metadata": {
    "ExecuteTime": {
     "end_time": "2019-08-13T03:01:45.280250Z",
     "start_time": "2019-08-13T03:01:45.240226Z"
    },
    "code_folding": [
     0
    ],
    "colab": {
     "base_uri": "https://localhost:8080/",
     "height": 128
    },
    "colab_type": "code",
    "id": "3XeYeEjU8WP8",
    "outputId": "e150e172-ba8f-46e8-8ecc-33725eb929b4"
   },
   "outputs": [],
   "source": [
    "def train_model(model, criterion, optimizer, scheduler, num_epochs=25):\n",
    "    since = time.time()\n",
    "\n",
    "#     best_model_wts = copy.deepcopy(model.state_dict())\n",
    "    \n",
    "    best_loss = 0.0\n",
    "    \n",
    "    \n",
    "    for phase in dataloaders.keys():\n",
    "      \n",
    "        if phase is 'train':\n",
    "\n",
    "            model.train()\n",
    "\n",
    "        else:\n",
    "\n",
    "            model.eval()\n",
    "\n",
    "            for epoch in range(num_epochs):\n",
    "                running_loss = 0.0\n",
    "                running_acc = 0\n",
    "\n",
    "                for (inputs, labels) in dataloaders[phase]:\n",
    "\n",
    "                    inputs = inputs.to(device)\n",
    "                    labels = labels.to(device)\n",
    "\n",
    "                    optimizer.zero_grad()\n",
    "\n",
    "                    with torch.set_grad_enabled(phase == 'train'):\n",
    "                        outputs = model(inputs)\n",
    "                        \n",
    "                        \n",
    "                        loss = criterion(outputs, labels)\n",
    "\n",
    "\n",
    "                        if phase is 'train':\n",
    "\n",
    "                            loss.backward()\n",
    "                            optimizer.step()\n",
    "\n",
    "                            scheduler.step()\n",
    "                       \n",
    "                        running_loss += loss.item() \n",
    "\n",
    "\n",
    "                        epoch_loss = running_loss / len( dataloaders[phase] )\n",
    "\n",
    "\n",
    "                print('{} Loss: {:.4f} '.format(\n",
    "                      phase, epoch_loss))\n",
    "\n",
    "                  # deep copy the model\n",
    "                if phase == 'val' and epoch_loss < best_loss:\n",
    "                    best_loss = epoch_loss\n",
    "\n",
    "\n",
    "\n",
    "\n",
    "\n",
    "    time_elapsed = time.time() - since\n",
    "    print('Training complete in {:.0f}m {:.0f}s'.format(\n",
    "        time_elapsed // 60, time_elapsed % 60))\n",
    "    \n",
    "\n",
    "    # load best model weights\n",
    "#     model.load_state_dict(best_model_wts)\n",
    "    return model\n",
    "      \n",
    "      \n",
    "      \n",
    "    \n",
    "    "
   ]
  },
  {
   "cell_type": "code",
   "execution_count": 19,
   "metadata": {
    "ExecuteTime": {
     "end_time": "2019-08-13T03:01:47.282550Z",
     "start_time": "2019-08-13T03:01:46.347562Z"
    },
    "colab": {
     "base_uri": "https://localhost:8080/",
     "height": 70
    },
    "colab_type": "code",
    "id": "u2HSQneC8WQA",
    "outputId": "6b71a056-6ceb-4b73-afd4-963a6ce9790a"
   },
   "outputs": [],
   "source": [
    "model_ft = vision_models.resnet18(pretrained=True)\n",
    "num_ftrs = model_ft.fc.in_features\n",
    "model_ft.fc = nn.Linear(num_ftrs, 4)\n",
    "\n",
    "model_ft = model_ft.to(device)\n",
    "\n",
    "\n",
    "criterion = nn.BCEWithLogitsLoss()\n",
    "\n",
    "\n",
    "\n",
    "# Observe that all parameters are being optimized\n",
    "optimizer_ft = SGD(model_ft.parameters(),\n",
    "                         lr=1e-3, momentum=0.8,\n",
    "                  nesterov = True)\n",
    "\n",
    "# Decay LR by a factor of 0.1 every 7 epochs\n",
    "exp_lr_scheduler = StepLR(optimizer_ft,\n",
    "                                       step_size=4, gamma=0.1)"
   ]
  },
  {
   "cell_type": "code",
   "execution_count": 20,
   "metadata": {
    "ExecuteTime": {
     "end_time": "2019-08-13T03:04:22.908588Z",
     "start_time": "2019-08-13T03:01:48.143834Z"
    },
    "colab": {
     "base_uri": "https://localhost:8080/",
     "height": 686
    },
    "colab_type": "code",
    "id": "4_oi-tJ-8WQF",
    "outputId": "0efc8ebe-76d6-4c6e-d297-79109ddaff33"
   },
   "outputs": [
    {
     "name": "stdout",
     "output_type": "stream",
     "text": [
      "val Loss: nan \n",
      "val Loss: nan \n",
      "val Loss: nan \n",
      "val Loss: nan \n",
      "val Loss: nan \n",
      "val Loss: nan \n",
      "val Loss: nan \n",
      "val Loss: nan \n",
      "val Loss: nan \n",
      "val Loss: nan \n",
      "val Loss: nan \n",
      "val Loss: nan \n",
      "val Loss: nan \n",
      "val Loss: nan \n",
      "val Loss: nan \n",
      "Training complete in 0m 13s\n"
     ]
    }
   ],
   "source": [
    "model_ft = train_model(model_ft, criterion, optimizer_ft, exp_lr_scheduler,\n",
    "                       num_epochs=15)"
   ]
  },
  {
   "cell_type": "code",
   "execution_count": null,
   "metadata": {},
   "outputs": [],
   "source": []
  }
 ],
 "metadata": {
  "accelerator": "GPU",
  "colab": {
   "collapsed_sections": [],
   "machine_shape": "hm",
   "name": "Resume_Image_Classifier_ULU.ipynb",
   "provenance": [],
   "version": "0.3.2"
  },
  "kernelspec": {
   "display_name": "Python 3",
   "language": "python",
   "name": "python3"
  },
  "language_info": {
   "codemirror_mode": {
    "name": "ipython",
    "version": 3
   },
   "file_extension": ".py",
   "mimetype": "text/x-python",
   "name": "python",
   "nbconvert_exporter": "python",
   "pygments_lexer": "ipython3",
   "version": "3.7.3"
  },
  "varInspector": {
   "cols": {
    "lenName": 16,
    "lenType": 16,
    "lenVar": 40
   },
   "kernels_config": {
    "python": {
     "delete_cmd_postfix": "",
     "delete_cmd_prefix": "del ",
     "library": "var_list.py",
     "varRefreshCmd": "print(var_dic_list())"
    },
    "r": {
     "delete_cmd_postfix": ") ",
     "delete_cmd_prefix": "rm(",
     "library": "var_list.r",
     "varRefreshCmd": "cat(var_dic_list()) "
    }
   },
   "types_to_exclude": [
    "module",
    "function",
    "builtin_function_or_method",
    "instance",
    "_Feature"
   ],
   "window_display": false
  }
 },
 "nbformat": 4,
 "nbformat_minor": 1
}
